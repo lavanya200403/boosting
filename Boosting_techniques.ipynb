{
  "nbformat": 4,
  "nbformat_minor": 0,
  "metadata": {
    "colab": {
      "provenance": []
    },
    "kernelspec": {
      "name": "python3",
      "display_name": "Python 3"
    },
    "language_info": {
      "name": "python"
    }
  },
  "cells": [
    {
      "cell_type": "markdown",
      "source": [
        "#1. What is Boosting in Machine Learning? Explain how it improves weak learners.\n",
        "\n",
        "    ->Boosting is an iterative ensemble learning technique where multiple weak learners are trained sequentially, with each new model focusing on correcting the errors of the preceding ones, thereby reducing bias and improving accuracy.\n",
        "    Weak learners, such as simple decision trees, become stronger when boosted by being trained.\n"
      ],
      "metadata": {
        "id": "Z7Y6yaynqNKp"
      }
    },
    {
      "cell_type": "markdown",
      "source": [
        "#2. What is the difference between AdaBoost and Gradient Boosting in terms of how models are trained?\n",
        "\n",
        "    ->AdaBoost focuses on improving its ability to classify difficult examples, whereas\n",
        "    Gradient Boosting focuses on minimizing the overall error in its predictions by iteratively fitting models to the new residuals.\n",
        ""
      ],
      "metadata": {
        "id": "t3rTRW1vqNHS"
      }
    },
    {
      "cell_type": "markdown",
      "source": [
        "#3.How does regularization help in XGBoost?\n",
        "\n",
        "    ->Regularization in XGBoost helps prevent overfitting and improve the generalization capability of the model by controlling its complexity"
      ],
      "metadata": {
        "id": "cJGFyT20rZyb"
      }
    },
    {
      "cell_type": "markdown",
      "source": [
        "#4.Why is CatBoost considered efficient for handling categorical data?\n",
        "\n",
        "    ->CatBoost is considered efficient for handling categorical data primarily due to its innovative and automatic approach to processing these features."
      ],
      "metadata": {
        "id": "_HpkDJ_wrvr4"
      }
    },
    {
      "cell_type": "markdown",
      "source": [
        "#5.What are some real-world applications where boosting techniques are preferred over bagging methods?\n",
        "\n",
        "    ->Boosting techniques are preferred over bagging methods for real-world applications like fraud detection and credit scoring."
      ],
      "metadata": {
        "id": "x7PWCOSWrvbY"
      }
    },
    {
      "cell_type": "markdown",
      "source": [
        "#6.Write a Python program to:\n",
        "    ● Train an AdaBoost Classifier on the Breast Cancer dataset\n",
        "    ● Print the model accuracy\n"
      ],
      "metadata": {
        "id": "FeSP2ZOhsb71"
      }
    },
    {
      "cell_type": "code",
      "execution_count": 1,
      "metadata": {
        "colab": {
          "base_uri": "https://localhost:8080/"
        },
        "id": "3tgaV_uKqLrF",
        "outputId": "0bc28b65-e3ce-464d-9926-588384a3304e"
      },
      "outputs": [
        {
          "output_type": "stream",
          "name": "stdout",
          "text": [
            "AdaBoost Classifier Accuracy on Breast Cancer Dataset: 0.9708\n"
          ]
        }
      ],
      "source": [
        "from sklearn.ensemble import AdaBoostClassifier\n",
        "from sklearn.datasets import load_breast_cancer\n",
        "from sklearn.model_selection import train_test_split\n",
        "from sklearn.metrics import accuracy_score\n",
        "\n",
        "cancer = load_breast_cancer()\n",
        "X = cancer.data\n",
        "y = cancer.target\n",
        "\n",
        "X_train, X_test, y_train, y_test = train_test_split(\n",
        "    X, y, test_size=0.3, random_state=42\n",
        ")\n",
        "ada_clf = AdaBoostClassifier(n_estimators=100, learning_rate=1, random_state=42)\n",
        "\n",
        "ada_clf.fit(X_train, y_train)\n",
        "\n",
        "y_pred = ada_clf.predict(X_test)\n",
        "\n",
        "accuracy = accuracy_score(y_test, y_pred)\n",
        "print(f\"AdaBoost Classifier Accuracy on Breast Cancer Dataset: {accuracy:.4f}\")"
      ]
    },
    {
      "cell_type": "markdown",
      "source": [
        "#7.Write a Python program to:\n",
        "    ● Train a Gradient Boosting Regressor on the California Housing dataset\n",
        "    ● Evaluate performance using R-squared score"
      ],
      "metadata": {
        "id": "AYoD8MdttRl5"
      }
    },
    {
      "cell_type": "code",
      "source": [
        "from sklearn.datasets import fetch_california_housing\n",
        "from sklearn.ensemble import GradientBoostingRegressor\n",
        "from sklearn.metrics import r2_score\n",
        "\n",
        "housing = fetch_california_housing(as_frame=True)\n",
        "X = housing.data\n",
        "y = housing.target\n",
        "\n",
        "X_train, X_test, y_train, y_test = train_test_split(X, y, test_size=0.2, random_state=42)\n",
        "\n",
        "gbr = GradientBoostingRegressor(random_state=42)\n",
        "\n",
        "gbr.fit(X_train, y_train)\n",
        "\n",
        "y_pred = gbr.predict(X_test)\n",
        "\n",
        "r2 = r2_score(y_test, y_pred)\n",
        "\n",
        "# Print the R-squared score\n",
        "print(f\"R-squared score: {r2:.4f}\")"
      ],
      "metadata": {
        "colab": {
          "base_uri": "https://localhost:8080/"
        },
        "id": "IIpjDw7ftbJo",
        "outputId": "50dd46b7-fdd3-4753-ba58-f4c3b51cdbc7"
      },
      "execution_count": 2,
      "outputs": [
        {
          "output_type": "stream",
          "name": "stdout",
          "text": [
            "R-squared score: 0.7756\n"
          ]
        }
      ]
    },
    {
      "cell_type": "markdown",
      "source": [
        "#8.Write a Python program to:\n",
        "    ● Train an XGBoost Classifier on the Breast Cancer dataset\n",
        "    ● Tune the learning rate using GridSearchCV\n",
        "    ● Print the best parameters and accuracy"
      ],
      "metadata": {
        "id": "NjjZD7bNt0Hh"
      }
    },
    {
      "cell_type": "code",
      "source": [
        "import xgboost as xgb\n",
        "from sklearn.datasets import load_breast_cancer\n",
        "from sklearn.model_selection import train_test_split, GridSearchCV\n",
        "\n",
        "cancer = load_breast_cancer()\n",
        "X = cancer.data\n",
        "y = cancer.target\n",
        "X_train, X_test, y_train, y_test = train_test_split(X, y, test_size=0.2, random_state=42)\n",
        "\n",
        "xgb_model = xgb.XGBClassifier(objective='binary:logistic', eval_metric='logloss', use_label_encoder=False, random_state=42)\n",
        "param_grid = {\n",
        "    'learning_rate': [0.01, 0.05, 0.1, 0.2, 0.3]\n",
        "}\n",
        "\n",
        "grid_search = GridSearchCV(estimator=xgb_model, param_grid=param_grid, cv=5, scoring='accuracy', n_jobs=-1, verbose=1)\n",
        "\n",
        "grid_search.fit(X_train, y_train)\n",
        "\n",
        "print(f\"Best parameters: {grid_search.best_params_}\")\n",
        "best_xgb_model = grid_search.best_estimator_\n",
        "y_pred = best_xgb_model.predict(X_test)\n",
        "accuracy = accuracy_score(y_test, y_pred)\n",
        "print(f\"Accuracy on the test set with best parameters: {accuracy:.4f}\")"
      ],
      "metadata": {
        "colab": {
          "base_uri": "https://localhost:8080/"
        },
        "id": "qznr1VI_t00G",
        "outputId": "0f58931f-fdb5-4e0e-f530-ae603fb4dffd"
      },
      "execution_count": 3,
      "outputs": [
        {
          "output_type": "stream",
          "name": "stdout",
          "text": [
            "Fitting 5 folds for each of 5 candidates, totalling 25 fits\n",
            "Best parameters: {'learning_rate': 0.2}\n",
            "Accuracy on the test set with best parameters: 0.9561\n"
          ]
        },
        {
          "output_type": "stream",
          "name": "stderr",
          "text": [
            "/usr/local/lib/python3.12/dist-packages/xgboost/training.py:183: UserWarning: [03:32:35] WARNING: /workspace/src/learner.cc:738: \n",
            "Parameters: { \"use_label_encoder\" } are not used.\n",
            "\n",
            "  bst.update(dtrain, iteration=i, fobj=obj)\n"
          ]
        }
      ]
    },
    {
      "cell_type": "code",
      "source": [
        "pip install catboost scikit-learn seaborn matplotlib"
      ],
      "metadata": {
        "colab": {
          "base_uri": "https://localhost:8080/"
        },
        "id": "KiC4cCIAwceZ",
        "outputId": "c9b3d93e-58a4-442d-fdda-b8fa747539fd"
      },
      "execution_count": 8,
      "outputs": [
        {
          "output_type": "stream",
          "name": "stdout",
          "text": [
            "Collecting catboost\n",
            "  Downloading catboost-1.2.8-cp312-cp312-manylinux2014_x86_64.whl.metadata (1.2 kB)\n",
            "Requirement already satisfied: scikit-learn in /usr/local/lib/python3.12/dist-packages (1.6.1)\n",
            "Requirement already satisfied: seaborn in /usr/local/lib/python3.12/dist-packages (0.13.2)\n",
            "Requirement already satisfied: matplotlib in /usr/local/lib/python3.12/dist-packages (3.10.0)\n",
            "Requirement already satisfied: graphviz in /usr/local/lib/python3.12/dist-packages (from catboost) (0.21)\n",
            "Requirement already satisfied: numpy<3.0,>=1.16.0 in /usr/local/lib/python3.12/dist-packages (from catboost) (2.0.2)\n",
            "Requirement already satisfied: pandas>=0.24 in /usr/local/lib/python3.12/dist-packages (from catboost) (2.2.2)\n",
            "Requirement already satisfied: scipy in /usr/local/lib/python3.12/dist-packages (from catboost) (1.16.1)\n",
            "Requirement already satisfied: plotly in /usr/local/lib/python3.12/dist-packages (from catboost) (5.24.1)\n",
            "Requirement already satisfied: six in /usr/local/lib/python3.12/dist-packages (from catboost) (1.17.0)\n",
            "Requirement already satisfied: joblib>=1.2.0 in /usr/local/lib/python3.12/dist-packages (from scikit-learn) (1.5.1)\n",
            "Requirement already satisfied: threadpoolctl>=3.1.0 in /usr/local/lib/python3.12/dist-packages (from scikit-learn) (3.6.0)\n",
            "Requirement already satisfied: contourpy>=1.0.1 in /usr/local/lib/python3.12/dist-packages (from matplotlib) (1.3.3)\n",
            "Requirement already satisfied: cycler>=0.10 in /usr/local/lib/python3.12/dist-packages (from matplotlib) (0.12.1)\n",
            "Requirement already satisfied: fonttools>=4.22.0 in /usr/local/lib/python3.12/dist-packages (from matplotlib) (4.59.1)\n",
            "Requirement already satisfied: kiwisolver>=1.3.1 in /usr/local/lib/python3.12/dist-packages (from matplotlib) (1.4.9)\n",
            "Requirement already satisfied: packaging>=20.0 in /usr/local/lib/python3.12/dist-packages (from matplotlib) (25.0)\n",
            "Requirement already satisfied: pillow>=8 in /usr/local/lib/python3.12/dist-packages (from matplotlib) (11.3.0)\n",
            "Requirement already satisfied: pyparsing>=2.3.1 in /usr/local/lib/python3.12/dist-packages (from matplotlib) (3.2.3)\n",
            "Requirement already satisfied: python-dateutil>=2.7 in /usr/local/lib/python3.12/dist-packages (from matplotlib) (2.9.0.post0)\n",
            "Requirement already satisfied: pytz>=2020.1 in /usr/local/lib/python3.12/dist-packages (from pandas>=0.24->catboost) (2025.2)\n",
            "Requirement already satisfied: tzdata>=2022.7 in /usr/local/lib/python3.12/dist-packages (from pandas>=0.24->catboost) (2025.2)\n",
            "Requirement already satisfied: tenacity>=6.2.0 in /usr/local/lib/python3.12/dist-packages (from plotly->catboost) (8.5.0)\n",
            "Downloading catboost-1.2.8-cp312-cp312-manylinux2014_x86_64.whl (99.2 MB)\n",
            "\u001b[2K   \u001b[90m━━━━━━━━━━━━━━━━━━━━━━━━━━━━━━━━━━━━━━━━\u001b[0m \u001b[32m99.2/99.2 MB\u001b[0m \u001b[31m7.9 MB/s\u001b[0m eta \u001b[36m0:00:00\u001b[0m\n",
            "\u001b[?25hInstalling collected packages: catboost\n",
            "Successfully installed catboost-1.2.8\n"
          ]
        }
      ]
    },
    {
      "cell_type": "markdown",
      "source": [
        "#9.Write a Python program to:\n",
        "● Train a CatBoost Classifier\n",
        "● Plot the confusion matrix using seaborn"
      ],
      "metadata": {
        "id": "4kd9IHxGuk3N"
      }
    },
    {
      "cell_type": "code",
      "source": [
        "import pandas as pd\n",
        "import numpy as np\n",
        "import seaborn as sns\n",
        "import matplotlib.pyplot as plt\n",
        "from sklearn.metrics import confusion_matrix, accuracy_score\n",
        "from catboost import CatBoostClassifier\n",
        "\n",
        "from sklearn.datasets import make_classification\n",
        "X, y = make_classification(n_samples=1000, n_features=10, n_classes=2, random_state=42)\n",
        "df = pd.DataFrame(X, columns=[f'feature_{i}' for i in range(X.shape[1])])\n",
        "df['target'] = y\n",
        "\n",
        "X = df.drop('target', axis=1)\n",
        "y = df['target']\n",
        "X_train, X_test, y_train, y_test = train_test_split(X, y, test_size=0.2, random_state=42)\n",
        "\n",
        "model = CatBoostClassifier(iterations=100,\n",
        "                           learning_rate=0.1,\n",
        "                           depth=6,\n",
        "                           loss_function='Logloss',\n",
        "                           random_seed=42,\n",
        "                           verbose=0)\n",
        "\n",
        "model.fit(X_train, y_train)\n",
        "y_pred = model.predict(X_test)\n",
        "cm = confusion_matrix(y_test, y_pred)\n",
        "\n",
        "plt.figure(figsize=(8, 6))\n",
        "sns.heatmap(cm, annot=True, fmt='d', cmap='Blues', cbar=False,\n",
        "            xticklabels=['Predicted 0', 'Predicted 1'],\n",
        "            yticklabels=['Actual 0', 'Actual 1'])\n",
        "plt.xlabel('Predicted Label')\n",
        "plt.ylabel('True Label')\n",
        "plt.title('Confusion Matrix for CatBoost Classifier')\n",
        "plt.show()\n",
        "\n",
        "accuracy = accuracy_score(y_test, y_pred)\n",
        "print(f\"Accuracy of the CatBoost Classifier: {accuracy:.4f}\")"
      ],
      "metadata": {
        "colab": {
          "base_uri": "https://localhost:8080/",
          "height": 581
        },
        "id": "DCXgsSS3ulXW",
        "outputId": "3e06f596-5a5e-4695-851b-46e84e22e1d0"
      },
      "execution_count": 9,
      "outputs": [
        {
          "output_type": "display_data",
          "data": {
            "text/plain": [
              "<Figure size 800x600 with 1 Axes>"
            ],
            "image/png": "[encoded data removed]"
          },
          "metadata": {}
        },
        {
          "output_type": "stream",
          "name": "stdout",
          "text": [
            "Accuracy of the CatBoost Classifier: 0.8850\n"
          ]
        }
      ]
    },
    {
      "cell_type": "markdown",
      "source": [
        "#10.You're working for a FinTech company trying to predict loan default usingcustomer demographics and transaction behavior.\n",
        "    The dataset is imbalanced, contains missing values, and has both numeric and\n",
        "    categorical features.\n",
        "    Describe your step-by-step data science pipeline using boosting techniques:\n",
        "    ● Data preprocessing & handling missing/categorical values\n",
        "    ● Choice between AdaBoost, XGBoost, or CatBoost\n",
        "    ● Hyperparameter tuning strategy\n",
        "    ● Evaluation metrics you'd choose and why\n",
        "    ● How the business would benefit from your model"
      ],
      "metadata": {
        "id": "r2Oj6P-Jul3f"
      }
    },
    {
      "cell_type": "markdown",
      "source": [
        "#10.To build a loan default prediction model with an imbalanced dataset, you should preprocess the data by handling missing values (e.g., imputation) and transforming categorical features (e.g., one-hot encoding)\n",
        "    "
      ],
      "metadata": {
        "id": "lf6_jMPWxFL0"
      }
    }
  ]
}